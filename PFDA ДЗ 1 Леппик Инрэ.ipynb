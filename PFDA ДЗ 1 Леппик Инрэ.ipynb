{
 "cells": [
  {
   "cell_type": "markdown",
   "metadata": {
    "id": "3l-0ahLPQQd3"
   },
   "source": [
    "Первая часть ДЗ находится здесь: https://official.contest.yandex.ru/contest/67840/enter\n",
    "\n",
    "Эта часть будет проверяться полностью вручную.\n",
    "За качество кода баллы могут быть снижены."
   ]
  },
  {
   "cell_type": "markdown",
   "metadata": {
    "id": "Kr8O7js8QdFD"
   },
   "source": [
    "### Задача 1. Декоратор. (15)\n",
    "\n",
    "Напишите декоратор, который будет выполнять функцию трижды, делая между выполнениями перерыв в 2 секунды. После каждого выполнения декоратор должен выводить на экран аргументы функции и результат работы (возвращаемое значение)"
   ]
  },
  {
   "cell_type": "code",
   "execution_count": 8,
   "metadata": {
    "id": "8rnqhsSGQfPR"
   },
   "outputs": [],
   "source": [
    "import time\n",
    "def x3_decorator(func):\n",
    "    def inner(*args, **kwargs):\n",
    "        for i in range(3):\n",
    "            print(f'Aргументы функции: {args, kwargs}')\n",
    "            res = func(*args, **kwargs)\n",
    "            print(f'Результат: {res}')\n",
    "            time.sleep(2)\n",
    "        return res\n",
    "    return inner\n",
    "        "
   ]
  },
  {
   "cell_type": "code",
   "execution_count": 10,
   "metadata": {},
   "outputs": [
    {
     "name": "stdout",
     "output_type": "stream",
     "text": [
      "word\n",
      "world\n",
      "Aргументы функции: (('word', 'world'), {})\n",
      "Результат: True\n",
      "Aргументы функции: (('word', 'world'), {})\n",
      "Результат: True\n",
      "Aргументы функции: (('word', 'world'), {})\n",
      "Результат: True\n"
     ]
    },
    {
     "data": {
      "text/plain": [
       "True"
      ]
     },
     "execution_count": 10,
     "metadata": {},
     "output_type": "execute_result"
    }
   ],
   "source": [
    "@x3_decorator\n",
    "def is_plagiat(word1, word2):\n",
    "    w1 = set(word1.lower())\n",
    "    w2 = set(word2.lower())\n",
    "    if len(w2 - w1) > 1:\n",
    "        return False\n",
    "    else:\n",
    "        return True\n",
    "is_plagiat(input(), input())"
   ]
  },
  {
   "cell_type": "markdown",
   "metadata": {
    "id": "MqYm6QvUSko4"
   },
   "source": [
    "### Задача 2. Генератор. (20)\n",
    "\n",
    "Напишите генератор, который принимает коллекцию с вложенными итерируемыми объектами, а возвращает каждый элемент последовательно.Если \"распаковать\" все получаемые значения в list, получится \"сплющенный\" список. Например:\n",
    "\n",
    "[[1, 2, 3], [4, [5, 6, [7, 8]]]] -> [1, 2, 3, 4, 5, 6, 7, 8]\n",
    "\n",
    "UPD. Еще пример:\n",
    "[1, 2, 'abc', [2, 4], {'key' : 'value'}]\n",
    "\n",
    "-> [1, 2, 'a', 'b', 'c', 2, 4, 'k', 'e', 'y']"
   ]
  },
  {
   "cell_type": "code",
   "execution_count": 13,
   "metadata": {},
   "outputs": [],
   "source": [
    "def unpacker(l):\n",
    "    for i in l:\n",
    "        if isinstance(i, (list, tuple, set, dict)):\n",
    "            if type(i) == dict:\n",
    "                yield from unpacker(i.keys())\n",
    "            else:\n",
    "                yield from unpacker(i)\n",
    "                \n",
    "        elif type(i) == str:\n",
    "            for j in i:\n",
    "                yield j\n",
    "        else:\n",
    "            yield i"
   ]
  },
  {
   "cell_type": "code",
   "execution_count": 14,
   "metadata": {},
   "outputs": [
    {
     "data": {
      "text/plain": [
       "[1, 2, 3, 4, 5, 6, 7, 8]"
      ]
     },
     "execution_count": 14,
     "metadata": {},
     "output_type": "execute_result"
    }
   ],
   "source": [
    "list(unpacker([[1, 2, 3], [4, [5, 6, [7, 8]]]]))"
   ]
  },
  {
   "cell_type": "code",
   "execution_count": 15,
   "metadata": {},
   "outputs": [
    {
     "data": {
      "text/plain": [
       "[1, 2, 'a', 'b', 'c', 2, 4, 'k', 'e', 'y']"
      ]
     },
     "execution_count": 15,
     "metadata": {},
     "output_type": "execute_result"
    }
   ],
   "source": [
    "list(unpacker([1, 2, 'abc', [2, 4], {'key' : 'value'}]))"
   ]
  },
  {
   "cell_type": "markdown",
   "metadata": {
    "id": "oMq97028UDAG"
   },
   "source": [
    "### Задача 3. itertools (15)\n",
    "\n",
    "Модуль itertools представляет много инструментов для работы с итераторами.\n",
    "\n",
    "Ознакомиться с ними можно здесь: https://docs.python.org/3/library/itertools.html\n",
    "\n",
    "Вводится числа через пробел с одной строке. Затем вводится число n.\n",
    "\n",
    "Напишите программу, которая находит все уникальные пары чисел из списка, где сумма каждой пары равна числу n. Можете использовать itertools.\n",
    "\n",
    "Например, списка [1, 2, 3, 4, 5, 6] и n=7 программа должна вывести пары чисел, которые в сумме дают 7: [(1, 6), (2, 5), (3, 4)]."
   ]
  },
  {
   "cell_type": "code",
   "execution_count": 35,
   "metadata": {},
   "outputs": [
    {
     "name": "stdout",
     "output_type": "stream",
     "text": [
      "1 2 5 6 3 1 2 6 9 0\n",
      "5\n",
      "[(2, 3), (3, 2), (5, 0)]\n"
     ]
    }
   ],
   "source": [
    "import itertools as it\n",
    "l = list(it.combinations(map(int, input().split(' ')), 2))\n",
    "n = int(input())\n",
    "res = []\n",
    "for c in l:\n",
    "    if sum(c) == n:\n",
    "        res.append(c)\n",
    "res = list(set(res))\n",
    "print(res)"
   ]
  },
  {
   "cell_type": "markdown",
   "metadata": {
    "id": "_jSc7xl-VCCq"
   },
   "source": [
    "## Задача 4.1 Очень функциональное программирование (2).\n",
    "\n",
    "Вводятся числа в одной строке через пробел.\n",
    "\n",
    "Например, '4 2 5 2 5 1'\n",
    "\n",
    "Необходимо найти наименьшее нечетное число. Например, для примера выше это 1.\n",
    "\n",
    "Решение должно занимать ровно одну строку любой длины.\n",
    "\n",
    "Запрещено использовать циклы, условные операторы и list comprehension.\n"
   ]
  },
  {
   "cell_type": "code",
   "execution_count": 37,
   "metadata": {
    "id": "ido4_rnfWSJa"
   },
   "outputs": [
    {
     "name": "stdout",
     "output_type": "stream",
     "text": [
      "3 2 7 8 6\n",
      "3\n"
     ]
    }
   ],
   "source": [
    "print(min(filter(lambda x: int(x) % 2, map(int, input().split()))))\n"
   ]
  },
  {
   "cell_type": "markdown",
   "metadata": {
    "id": "i-CiF6O9WS2q"
   },
   "source": [
    "## Задача 4.2 itertools и очень функциональное программирование (3)."
   ]
  },
  {
   "cell_type": "markdown",
   "metadata": {
    "id": "qs75u_OVWjd2"
   },
   "source": [
    "Вводится одно число n.\n",
    "\n",
    "Используя модуль itertools, выведите в одной строке через запятую и пробел факториалы чисел от 0 до n.\n",
    "\n",
    "\n",
    "Запрещено использовать циклы, условные операторы и list comprehension.\n",
    "\n",
    "Например, для n = 7 на экран надо вывести:\n",
    "\n",
    "1, 1, 2, 6, 24, 120, 720, 5040"
   ]
  },
  {
   "cell_type": "code",
   "execution_count": 1,
   "metadata": {
    "id": "q1dFCXhOW8ah"
   },
   "outputs": [
    {
     "name": "stdout",
     "output_type": "stream",
     "text": [
      "7\n",
      "1, 1, 2, 6, 24, 120, 720, 5040\n"
     ]
    }
   ],
   "source": [
    "import itertools\n",
    "\n",
    "n = int(input())\n",
    "\n",
    "def factorial(x):\n",
    "    if x == 0:\n",
    "        return 1\n",
    "    else:\n",
    "        return x * factorial(x-1)\n",
    "\n",
    "factorials = map(factorial, itertools.count(0))\n",
    "print(', '.join(map(str, itertools.islice(factorials, n + 1))))"
   ]
  }
 ],
 "metadata": {
  "colab": {
   "provenance": []
  },
  "kernelspec": {
   "display_name": "Python 3 (ipykernel)",
   "language": "python",
   "name": "python3"
  },
  "language_info": {
   "codemirror_mode": {
    "name": "ipython",
    "version": 3
   },
   "file_extension": ".py",
   "mimetype": "text/x-python",
   "name": "python",
   "nbconvert_exporter": "python",
   "pygments_lexer": "ipython3",
   "version": "3.9.13"
  }
 },
 "nbformat": 4,
 "nbformat_minor": 1
}
